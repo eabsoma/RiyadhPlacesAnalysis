{
  "nbformat": 4,
  "nbformat_minor": 0,
  "metadata": {
    "colab": {
      "provenance": []
    },
    "kernelspec": {
      "name": "python3",
      "display_name": "Python 3"
    },
    "language_info": {
      "name": "python"
    }
  },
  "cells": [
    {
      "cell_type": "code",
      "source": [
        "!pip install geopandas"
      ],
      "metadata": {
        "id": "dXtMy3Jkm0ih"
      },
      "execution_count": null,
      "outputs": []
    },
    {
      "cell_type": "code",
      "execution_count": null,
      "metadata": {
        "id": "9NJAQwjog2tT"
      },
      "outputs": [],
      "source": [
        "!pip install osmium"
      ]
    },
    {
      "cell_type": "markdown",
      "source": [
        "## **Extract** Data"
      ],
      "metadata": {
        "id": "o5uXPRIKJggV"
      }
    },
    {
      "cell_type": "code",
      "source": [
        "import osmium\n",
        "import pandas as pd"
      ],
      "metadata": {
        "id": "YAKqHOGyiOb_"
      },
      "execution_count": null,
      "outputs": []
    },
    {
      "cell_type": "code",
      "source": [
        "class OSMHandler(osmium.SimpleHandler):\n",
        "    def __init__(self):\n",
        "        super(OSMHandler, self).__init__()\n",
        "        self.nodes_data = []\n",
        "        self.ways_data = []\n",
        "\n",
        "    def node(self, n):\n",
        "        # Handle OSM nodes (individual points)\n",
        "        node_info = {\n",
        "            \"ID\": n.id,\n",
        "            \"Latitude\": n.location.lat,\n",
        "            \"Longitude\": n.location.lon\n",
        "        }\n",
        "        for tag in n.tags:\n",
        "            node_info[tag.k] = tag.v\n",
        "        self.nodes_data.append(node_info)\n",
        "\n",
        "    def way(self, w):\n",
        "        # Handle OSM ways (sequences of nodes)\n",
        "        way_info = {\n",
        "            \"ID\": w.id\n",
        "        }\n",
        "        for node_ref in w.nodes:\n",
        "            way_info[f\"Node_{node_ref.ref}\"] = \"Yes\"  # Mark the presence of the node in the way\n",
        "        for tag in w.tags:\n",
        "            way_info[tag.k] = tag.v\n",
        "        self.ways_data.append(way_info)"
      ],
      "metadata": {
        "id": "mi1sTDj_hUUp"
      },
      "execution_count": null,
      "outputs": []
    },
    {
      "cell_type": "code",
      "source": [
        "# Replace 'your_osm_file.osm' with the path to your OSM file.\n",
        "osm_file_Wazarat = \"/content/drive/MyDrive/Wazaratmap.osm\"\n",
        "\n",
        "# Initialize the OSMHandler and parse the OSM file\n",
        "osm_handler = OSMHandler()\n",
        "osm_handler.apply_file(osm_file_Wazarat)\n",
        "\n",
        "# Convert the accumulated data into Pandas DataFrames\n",
        "nodes_df_01 = pd.DataFrame(osm_handler.nodes_data)\n",
        "ways_df_01 = pd.DataFrame(osm_handler.ways_data)"
      ],
      "metadata": {
        "id": "KEUSs5YGuIZy"
      },
      "execution_count": null,
      "outputs": []
    },
    {
      "cell_type": "code",
      "source": [
        "selected_columns= ['ID', 'Latitude', 'Longitude', 'name', 'amenity',  'shop', 'sport', 'healthcare', 'drinking_water',  'office',\n",
        "                  'operator', 'tourism', 'brand']# 'wheelchair',"
      ],
      "metadata": {
        "id": "FJvJrrLkAoY8"
      },
      "execution_count": null,
      "outputs": []
    },
    {
      "cell_type": "code",
      "source": [
        "df1= nodes_df_01[selected_columns]"
      ],
      "metadata": {
        "id": "f9n-UHV9hcw6"
      },
      "execution_count": null,
      "outputs": []
    },
    {
      "cell_type": "code",
      "source": [
        "df1.shape"
      ],
      "metadata": {
        "colab": {
          "base_uri": "https://localhost:8080/"
        },
        "id": "VzdOoz2Pnosh",
        "outputId": "1aac77e4-e53f-4005-9ab0-29fb3d495dcd"
      },
      "execution_count": null,
      "outputs": [
        {
          "output_type": "execute_result",
          "data": {
            "text/plain": [
              "(10271, 14)"
            ]
          },
          "metadata": {},
          "execution_count": 10
        }
      ]
    },
    {
      "cell_type": "code",
      "source": [
        "# Replace 'your_osm_file.osm' with the path to your OSM file.\n",
        "osm_file_Malaz = \"/content/drive/MyDrive/mapMalaz.osm\"\n",
        "\n",
        "# Initialize the OSMHandler and parse the OSM file\n",
        "osm_handler = OSMHandler()\n",
        "osm_handler.apply_file(osm_file_Malaz)\n",
        "\n",
        "# Convert the accumulated data into Pandas DataFrames\n",
        "nodes_df_02 = pd.DataFrame(osm_handler.nodes_data)\n",
        "ways_df_02 = pd.DataFrame(osm_handler.ways_data)"
      ],
      "metadata": {
        "id": "enCTX8mwuFiy"
      },
      "execution_count": null,
      "outputs": []
    },
    {
      "cell_type": "code",
      "source": [
        "df2= nodes_df_02[selected_columns]"
      ],
      "metadata": {
        "id": "Hh9_WdmWeU2D"
      },
      "execution_count": null,
      "outputs": []
    },
    {
      "cell_type": "code",
      "source": [
        "df2.shape"
      ],
      "metadata": {
        "colab": {
          "base_uri": "https://localhost:8080/"
        },
        "id": "j2nAYsadozXD",
        "outputId": "f7d9a87d-6c89-47b5-ce56-fd8f2abad836"
      },
      "execution_count": null,
      "outputs": [
        {
          "output_type": "execute_result",
          "data": {
            "text/plain": [
              "(7581, 13)"
            ]
          },
          "metadata": {},
          "execution_count": 18
        }
      ]
    },
    {
      "cell_type": "code",
      "source": [
        "\n",
        "# Replace 'your_osm_file.osm' with the path to your OSM file.\n",
        "osm_file_Malqa = \"/content/drive/MyDrive/Malqamap.osm\"\n",
        "\n",
        "# Initialize the OSMHandler and parse the OSM file\n",
        "osm_handler = OSMHandler()\n",
        "osm_handler.apply_file(osm_file_Malqa)\n",
        "\n",
        "# Convert the accumulated data into Pandas DataFrames\n",
        "nodes_df_03 = pd.DataFrame(osm_handler.nodes_data)\n",
        "ways_df_03 = pd.DataFrame(osm_handler.ways_data)"
      ],
      "metadata": {
        "id": "HdPJTcrlvZgU"
      },
      "execution_count": null,
      "outputs": []
    },
    {
      "cell_type": "code",
      "source": [
        "df3= nodes_df_03[selected_columns]"
      ],
      "metadata": {
        "id": "bqD-h5bmh__g"
      },
      "execution_count": null,
      "outputs": []
    },
    {
      "cell_type": "code",
      "source": [
        "df3.shape"
      ],
      "metadata": {
        "colab": {
          "base_uri": "https://localhost:8080/"
        },
        "id": "v47WC3Covkif",
        "outputId": "e096b5a9-f755-4773-a88b-73ca7c6f78b9"
      },
      "execution_count": null,
      "outputs": [
        {
          "output_type": "execute_result",
          "data": {
            "text/plain": [
              "(10771, 11)"
            ]
          },
          "metadata": {},
          "execution_count": 24
        }
      ]
    },
    {
      "cell_type": "code",
      "source": [
        "\n",
        "# Replace 'your_osm_file.osm' with the path to your OSM file.\n",
        "osm_file_Hetin = \"/content/drive/MyDrive/mapHetin.osm\"\n",
        "\n",
        "# Initialize the OSMHandler and parse the OSM file\n",
        "osm_handler = OSMHandler()\n",
        "osm_handler.apply_file(osm_file_Hetin)\n",
        "\n",
        "# Convert the accumulated data into Pandas DataFrames\n",
        "nodes_df_04 = pd.DataFrame(osm_handler.nodes_data)\n",
        "ways_df_04 = pd.DataFrame(osm_handler.ways_data)"
      ],
      "metadata": {
        "id": "zMc-huNlxfEI"
      },
      "execution_count": null,
      "outputs": []
    },
    {
      "cell_type": "code",
      "source": [
        "df4= nodes_df_04[selected_columns]"
      ],
      "metadata": {
        "id": "Q8NN2iCHygG-"
      },
      "execution_count": null,
      "outputs": []
    },
    {
      "cell_type": "code",
      "source": [
        "df4.shape"
      ],
      "metadata": {
        "colab": {
          "base_uri": "https://localhost:8080/"
        },
        "id": "U-JL5DEowIIv",
        "outputId": "66daf0d4-0aef-4f11-e98d-b9e2fb8c37c4"
      },
      "execution_count": null,
      "outputs": [
        {
          "output_type": "execute_result",
          "data": {
            "text/plain": [
              "(19923, 12)"
            ]
          },
          "metadata": {},
          "execution_count": 30
        }
      ]
    },
    {
      "cell_type": "code",
      "source": [
        "# Replace 'your_osm_file.osm' with the path to your OSM file.\n",
        "osm_file_Diriyah = \"/content/drive/MyDrive/mapDiriyah.osm\"\n",
        "\n",
        "# Initialize the OSMHandler and parse the OSM file\n",
        "osm_handler = OSMHandler()\n",
        "osm_handler.apply_file(osm_file_Diriyah)\n",
        "\n",
        "# Convert the accumulated data into Pandas DataFrames\n",
        "nodes_df_05 = pd.DataFrame(osm_handler.nodes_data)\n",
        "ways_df_05 = pd.DataFrame(osm_handler.ways_data)"
      ],
      "metadata": {
        "id": "pjqOnHOLyyrV"
      },
      "execution_count": null,
      "outputs": []
    },
    {
      "cell_type": "code",
      "source": [
        "df5= nodes_df_05[selected_columns]"
      ],
      "metadata": {
        "id": "2xM5Nvfx0LvA"
      },
      "execution_count": null,
      "outputs": []
    },
    {
      "cell_type": "code",
      "source": [
        "df5.shape"
      ],
      "metadata": {
        "colab": {
          "base_uri": "https://localhost:8080/"
        },
        "id": "3B0zvwhfxfKZ",
        "outputId": "dcbed5c1-1d51-403d-d3da-53d88faeddec"
      },
      "execution_count": null,
      "outputs": [
        {
          "output_type": "execute_result",
          "data": {
            "text/plain": [
              "(11095, 11)"
            ]
          },
          "metadata": {},
          "execution_count": 36
        }
      ]
    },
    {
      "cell_type": "code",
      "source": [
        "\n",
        "# Replace 'your_osm_file.osm' with the path to your OSM file.\n",
        "osm_file_Nassem = \"/content/drive/MyDrive/mapNassem.osm\"\n",
        "\n",
        "# Initialize the OSMHandler and parse the OSM file\n",
        "osm_handler = OSMHandler()\n",
        "osm_handler.apply_file(osm_file_Nassem)\n",
        "\n",
        "# Convert the accumulated data into Pandas DataFrames\n",
        "nodes_df_06 = pd.DataFrame(osm_handler.nodes_data)\n",
        "ways_df_06 = pd.DataFrame(osm_handler.ways_data)"
      ],
      "metadata": {
        "id": "CVwy_n5-0SYv"
      },
      "execution_count": null,
      "outputs": []
    },
    {
      "cell_type": "code",
      "source": [
        "df6= nodes_df_06[selected_columns]"
      ],
      "metadata": {
        "id": "ZMLT61la1JeU"
      },
      "execution_count": null,
      "outputs": []
    },
    {
      "cell_type": "code",
      "source": [
        "df6.shape"
      ],
      "metadata": {
        "colab": {
          "base_uri": "https://localhost:8080/"
        },
        "id": "MI-otKYPyKQg",
        "outputId": "af442f22-43d0-4ec5-d517-b09f4b9b7598"
      },
      "execution_count": null,
      "outputs": [
        {
          "output_type": "execute_result",
          "data": {
            "text/plain": [
              "(16008, 14)"
            ]
          },
          "metadata": {},
          "execution_count": 42
        }
      ]
    },
    {
      "cell_type": "code",
      "source": [
        "\n",
        "# Replace 'your_osm_file.osm' with the path to your OSM file.\n",
        "osm_file_Namar = \"/content/drive/MyDrive/mapNamar.osm\"\n",
        "\n",
        "# Initialize the OSMHandler and parse the OSM file\n",
        "osm_handler = OSMHandler()\n",
        "osm_handler.apply_file(osm_file_Namar)\n",
        "\n",
        "# Convert the accumulated data into Pandas DataFrames\n",
        "nodes_df_07 = pd.DataFrame(osm_handler.nodes_data)\n",
        "ways_df_07 = pd.DataFrame(osm_handler.ways_data)"
      ],
      "metadata": {
        "id": "Xrt0TZSb1Rys"
      },
      "execution_count": null,
      "outputs": []
    },
    {
      "cell_type": "code",
      "source": [
        "df7= nodes_df_07[selected_columns]"
      ],
      "metadata": {
        "id": "qMLKxqms2Vrc"
      },
      "execution_count": null,
      "outputs": []
    },
    {
      "cell_type": "code",
      "source": [
        "df7.shape"
      ],
      "metadata": {
        "colab": {
          "base_uri": "https://localhost:8080/"
        },
        "id": "pu_0Dekdy7PX",
        "outputId": "62f87adf-b984-4be3-922e-8811086989ad"
      },
      "execution_count": null,
      "outputs": [
        {
          "output_type": "execute_result",
          "data": {
            "text/plain": [
              "(10041, 13)"
            ]
          },
          "metadata": {},
          "execution_count": 47
        }
      ]
    },
    {
      "cell_type": "code",
      "source": [
        "\n",
        "# Replace 'your_osm_file.osm' with the path to your OSM file.\n",
        "osm_file_Laban = \"/content/drive/MyDrive/mapLaban.osm\"\n",
        "\n",
        "# Initialize the OSMHandler and parse the OSM file\n",
        "osm_handler = OSMHandler()\n",
        "osm_handler.apply_file(osm_file_Laban)\n",
        "\n",
        "# Convert the accumulated data into Pandas DataFrames\n",
        "nodes_df_08 = pd.DataFrame(osm_handler.nodes_data)\n",
        "ways_df_08 = pd.DataFrame(osm_handler.ways_data)"
      ],
      "metadata": {
        "id": "MoBGmAVR2g-R"
      },
      "execution_count": null,
      "outputs": []
    },
    {
      "cell_type": "code",
      "source": [
        "df8= nodes_df_08[selected_columns]"
      ],
      "metadata": {
        "id": "6D4MGgWZ3mQx"
      },
      "execution_count": null,
      "outputs": []
    },
    {
      "cell_type": "code",
      "source": [
        "df8.shape"
      ],
      "metadata": {
        "colab": {
          "base_uri": "https://localhost:8080/"
        },
        "id": "9-bezX2v0on_",
        "outputId": "754bccc4-2231-456c-8dcd-3f9291114582"
      },
      "execution_count": null,
      "outputs": [
        {
          "output_type": "execute_result",
          "data": {
            "text/plain": [
              "(39549, 15)"
            ]
          },
          "metadata": {},
          "execution_count": 51
        }
      ]
    },
    {
      "cell_type": "code",
      "source": [
        "from google.colab import drive\n",
        "drive.mount('/content/drive')"
      ],
      "metadata": {
        "id": "0pwsQ_JBHYjI",
        "colab": {
          "base_uri": "https://localhost:8080/"
        },
        "outputId": "4c532a3e-a5dc-4d13-d2ec-8e893cb6e614"
      },
      "execution_count": null,
      "outputs": [
        {
          "output_type": "stream",
          "name": "stdout",
          "text": [
            "Drive already mounted at /content/drive; to attempt to forcibly remount, call drive.mount(\"/content/drive\", force_remount=True).\n"
          ]
        }
      ]
    },
    {
      "cell_type": "code",
      "source": [
        "\n",
        "# Replace 'your_osm_file.osm' with the path to your OSM file.\n",
        "osm_file_Shmasi = \"/content/drive/MyDrive/mapShemasi.osm\"\n",
        "\n",
        "# Initialize the OSMHandler and parse the OSM file\n",
        "osm_handler = OSMHandler()\n",
        "osm_handler.apply_file(osm_file_Shmasi)\n",
        "\n",
        "# Convert the accumulated data into Pandas DataFrames\n",
        "nodes_df_09 = pd.DataFrame(osm_handler.nodes_data)\n",
        "ways_df_09 = pd.DataFrame(osm_handler.ways_data)"
      ],
      "metadata": {
        "id": "-HYrNRyDq0gf"
      },
      "execution_count": null,
      "outputs": []
    },
    {
      "cell_type": "code",
      "source": [
        "df9= nodes_df_09[selected_columns]"
      ],
      "metadata": {
        "id": "kBuP6r5JORyA"
      },
      "execution_count": null,
      "outputs": []
    },
    {
      "cell_type": "code",
      "source": [
        "df9.shape"
      ],
      "metadata": {
        "id": "aMrqBPMF2B9N",
        "colab": {
          "base_uri": "https://localhost:8080/"
        },
        "outputId": "08a7d60e-edf7-42e7-ad03-6954776c15dd"
      },
      "execution_count": null,
      "outputs": [
        {
          "output_type": "execute_result",
          "data": {
            "text/plain": [
              "(28105, 14)"
            ]
          },
          "metadata": {},
          "execution_count": 60
        }
      ]
    },
    {
      "cell_type": "code",
      "source": [
        "\n",
        "# Replace 'your_osm_file.osm' with the path to your OSM file.\n",
        "osm_file_Oyaynah = \"/content/drive/MyDrive/mapOyaynah.osm\"\n",
        "\n",
        "# Initialize the OSMHandler and parse the OSM file\n",
        "osm_handler = OSMHandler()\n",
        "osm_handler.apply_file(osm_file_Oyaynah)\n",
        "\n",
        "# Convert the accumulated data into Pandas DataFrames\n",
        "nodes_df_10 = pd.DataFrame(osm_handler.nodes_data)\n",
        "ways_df_10 = pd.DataFrame(osm_handler.ways_data)\n"
      ],
      "metadata": {
        "id": "V9Q2CBNVOzk1"
      },
      "execution_count": null,
      "outputs": []
    },
    {
      "cell_type": "code",
      "source": [
        "df10= nodes_df_10[selected_columns]"
      ],
      "metadata": {
        "id": "ThuoWC5dQWR0"
      },
      "execution_count": null,
      "outputs": []
    },
    {
      "cell_type": "code",
      "source": [
        "df10.shape"
      ],
      "metadata": {
        "colab": {
          "base_uri": "https://localhost:8080/"
        },
        "id": "dXB4VJXJ2M8e",
        "outputId": "9789ef16-13c1-470b-9921-052d5f718659"
      },
      "execution_count": null,
      "outputs": [
        {
          "output_type": "execute_result",
          "data": {
            "text/plain": [
              "(13931, 8)"
            ]
          },
          "metadata": {},
          "execution_count": 67
        }
      ]
    },
    {
      "cell_type": "code",
      "source": [
        "\n",
        "# Replace 'your_osm_file.osm' with the path to your OSM file.\n",
        "osm_file_Nazim = \"/content/drive/MyDrive/mapNazim.osm\"\n",
        "\n",
        "# Initialize the OSMHandler and parse the OSM file\n",
        "osm_handler = OSMHandler()\n",
        "osm_handler.apply_file(osm_file_Nazim)\n",
        "\n",
        "# Convert the accumulated data into Pandas DataFrames\n",
        "nodes_df_11 = pd.DataFrame(osm_handler.nodes_data)\n",
        "ways_df_11 = pd.DataFrame(osm_handler.ways_data)\n"
      ],
      "metadata": {
        "id": "ixXqc03yREmy"
      },
      "execution_count": null,
      "outputs": []
    },
    {
      "cell_type": "code",
      "source": [
        "df11= nodes_df_11[selected_columns]"
      ],
      "metadata": {
        "id": "hlErkBpUR7-s"
      },
      "execution_count": null,
      "outputs": []
    },
    {
      "cell_type": "code",
      "source": [
        "df11.shape"
      ],
      "metadata": {
        "colab": {
          "base_uri": "https://localhost:8080/"
        },
        "id": "1KBhQdlOE7E0",
        "outputId": "d2c1f4a7-f93d-46e1-ebf5-7d44573b212f"
      },
      "execution_count": null,
      "outputs": [
        {
          "output_type": "execute_result",
          "data": {
            "text/plain": [
              "(7253, 10)"
            ]
          },
          "metadata": {},
          "execution_count": 79
        }
      ]
    },
    {
      "cell_type": "code",
      "source": [
        "\n",
        "# Replace 'your_osm_file.osm' with the path to your OSM file.\n",
        "osm_file_Azizyah = \"/content/drive/MyDrive/mapAzizyah.osm\"\n",
        "\n",
        "# Initialize the OSMHandler and parse the OSM file\n",
        "osm_handler = OSMHandler()\n",
        "osm_handler.apply_file(osm_file_Azizyah)\n",
        "\n",
        "# Convert the accumulated data into Pandas DataFrames\n",
        "nodes_df_12 = pd.DataFrame(osm_handler.nodes_data)\n",
        "ways_df_12 = pd.DataFrame(osm_handler.ways_data)\n"
      ],
      "metadata": {
        "id": "stP7LGbWSIS7"
      },
      "execution_count": null,
      "outputs": []
    },
    {
      "cell_type": "code",
      "source": [
        "df12= nodes_df_12[selected_columns]"
      ],
      "metadata": {
        "id": "-yfxI2w8Sj-4"
      },
      "execution_count": null,
      "outputs": []
    },
    {
      "cell_type": "code",
      "source": [
        "df12.shape"
      ],
      "metadata": {
        "colab": {
          "base_uri": "https://localhost:8080/"
        },
        "id": "x2fmxBOrGhva",
        "outputId": "14c9751f-5429-4f82-89cd-d51e10f38a53"
      },
      "execution_count": null,
      "outputs": [
        {
          "output_type": "execute_result",
          "data": {
            "text/plain": [
              "(3655, 10)"
            ]
          },
          "metadata": {},
          "execution_count": 85
        }
      ]
    },
    {
      "cell_type": "code",
      "source": [
        "\n",
        "# Replace 'your_osm_file.osm' with the path to your OSM file.\n",
        "osm_file_DarBidah = \"/content/drive/MyDrive/mapDarBidah.osm\"\n",
        "\n",
        "# Initialize the OSMHandler and parse the OSM file\n",
        "osm_handler = OSMHandler()\n",
        "osm_handler.apply_file(osm_file_DarBidah)\n",
        "\n",
        "# Convert the accumulated data into Pandas DataFrames\n",
        "nodes_df_13 = pd.DataFrame(osm_handler.nodes_data)\n",
        "ways_df_13 = pd.DataFrame(osm_handler.ways_data)\n"
      ],
      "metadata": {
        "id": "4fUU5u6mTzFQ"
      },
      "execution_count": null,
      "outputs": []
    },
    {
      "cell_type": "code",
      "source": [
        "df13= nodes_df_13[selected_columns]"
      ],
      "metadata": {
        "id": "7YzymBbXUKpk"
      },
      "execution_count": null,
      "outputs": []
    },
    {
      "cell_type": "code",
      "source": [
        "df13.shape"
      ],
      "metadata": {
        "colab": {
          "base_uri": "https://localhost:8080/"
        },
        "id": "YSpCS6ofHi-X",
        "outputId": "b267cac8-1baf-4d4a-e601-5de0a843631c"
      },
      "execution_count": null,
      "outputs": [
        {
          "output_type": "execute_result",
          "data": {
            "text/plain": [
              "(1896, 6)"
            ]
          },
          "metadata": {},
          "execution_count": 116
        }
      ]
    },
    {
      "cell_type": "code",
      "source": [
        "\n",
        "# Replace 'your_osm_file.osm' with the path to your OSM file.\n",
        "osm_file_Jenadriah = \"/content/drive/MyDrive/mapJenadriah.osm\"\n",
        "\n",
        "# Initialize the OSMHandler and parse the OSM file\n",
        "osm_handler = OSMHandler()\n",
        "osm_handler.apply_file(osm_file_Jenadriah)\n",
        "\n",
        "# Convert the accumulated data into Pandas DataFrames\n",
        "nodes_df_14 = pd.DataFrame(osm_handler.nodes_data)\n",
        "ways_df_14 = pd.DataFrame(osm_handler.ways_data)\n"
      ],
      "metadata": {
        "id": "rV4JO8bJURfn"
      },
      "execution_count": null,
      "outputs": []
    },
    {
      "cell_type": "code",
      "source": [
        "df14= nodes_df_14[selected_columns]"
      ],
      "metadata": {
        "id": "-Btou6xuUyoE"
      },
      "execution_count": null,
      "outputs": []
    },
    {
      "cell_type": "markdown",
      "source": [
        "## Data **EDA**\n",
        "\n"
      ],
      "metadata": {
        "id": "-XbGgJvkKsn-"
      }
    },
    {
      "cell_type": "code",
      "source": [
        "df1['Street']='Alwzarat'\n",
        "df2['Street']='Al-Malaz'\n",
        "df3['Street']='Al-Malqa'\n",
        "df4['Street']='Hetten'\n",
        "df5['Street']='Al-Dirayah'\n",
        "df6['Street']='Al-Nassem'\n",
        "df7['Street']='Namar'\n",
        "df8['Street']='Laban'\n",
        "df9['Street']='Al-Shemaisi'\n",
        "df10['Street']='Oyaynah'\n",
        "df11['Street']='Al-Nazim'\n",
        "df12['Street']='Al-Azaziah'\n",
        "df13['Street']='Al-Dar-Albaidha'\n",
        "df14['Street']='Al-Jenadriah'\n"
      ],
      "metadata": {
        "id": "0iDHrgEcnmJH"
      },
      "execution_count": null,
      "outputs": []
    },
    {
      "cell_type": "code",
      "source": [
        "#combine datasets\n",
        "data = pd.concat([df1, df2, df3, df4, df5, df6, df7, df8, df9, df10, df11, df12, df13,df14], ignore_index=True)\n",
        "data.shape\n"
      ],
      "metadata": {
        "colab": {
          "base_uri": "https://localhost:8080/"
        },
        "id": "PRqckGXoiYB5",
        "outputId": "94d3cef4-4c84-47af-a5d4-780714ebb659"
      },
      "execution_count": null,
      "outputs": [
        {
          "output_type": "execute_result",
          "data": {
            "text/plain": [
              "(85690, 16)"
            ]
          },
          "metadata": {},
          "execution_count": 52
        }
      ]
    },
    {
      "cell_type": "code",
      "source": [
        "data.to_csv('riyadh7.csv', index=False)"
      ],
      "metadata": {
        "id": "zY1SUDYQyowx"
      },
      "execution_count": null,
      "outputs": []
    }
  ]
}